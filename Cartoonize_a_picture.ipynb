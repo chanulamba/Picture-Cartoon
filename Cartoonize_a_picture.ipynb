{
  "nbformat": 4,
  "nbformat_minor": 0,
  "metadata": {
    "colab": {
      "provenance": []
    },
    "kernelspec": {
      "name": "python3",
      "display_name": "Python 3"
    },
    "language_info": {
      "name": "python"
    }
  },
  "cells": [
    {
      "cell_type": "code",
      "execution_count": null,
      "metadata": {
        "id": "TY1TstwWAZnp"
      },
      "outputs": [],
      "source": [
        "import cv2\n",
        "import numpy as np\n",
        "import matplotlib.pyplot as plt"
      ]
    },
    {
      "cell_type": "code",
      "source": [
        "def read_img(filename):\n",
        "  img = cv2.imread(filename)\n",
        "  # img =cv2.cvtColor(img,cv2.COLOR_BGR2RGB)\n",
        "  # plt.imshow(img)\n",
        "  # plt.show()\n",
        "  return img"
      ],
      "metadata": {
        "id": "66U--IQ8AvYn"
      },
      "execution_count": null,
      "outputs": []
    },
    {
      "cell_type": "code",
      "source": [
        "def edge_detection(img,line_width,blur_value):\n",
        "  gray = cv2.cvtColor(img,cv2.COLOR_BGR2GRAY)\n",
        "  grayBlur = cv2.medianBlur(gray, blur_value)\n",
        "  edges = cv2.adaptiveThreshold(grayBlur,255,cv2.ADAPTIVE_THRESH_MEAN_C,cv2.THRESH_BINARY,line_width,blur_value)\n",
        "  return edges\n"
      ],
      "metadata": {
        "id": "1-pcLmzVg9xD"
      },
      "execution_count": null,
      "outputs": []
    },
    {
      "cell_type": "code",
      "source": [
        "def color_quantisation(img,k):\n",
        "    data = np.float32(img).reshape((-1,3))\n",
        "    criteria = (cv2.TERM_CRITERIA_EPS + cv2.TERM_CRITERIA_MAX_ITER,20,0.001)\n",
        "    ret , label, center = cv2.kmeans(data,k,None,criteria,10,cv2.KMEANS_RANDOM_CENTERS)\n",
        "    center = np.uint8(center)\n",
        "    result = center[label.flatten()]\n",
        "    result = result.reshape(img.shape)\n",
        "    return result"
      ],
      "metadata": {
        "id": "YQxSBA9BiMxr"
      },
      "execution_count": null,
      "outputs": []
    },
    {
      "cell_type": "code",
      "source": [
        "filename = \"/content/IMG_20210413_082610.jpg\"\n",
        "img =read_img(filename)\n",
        "line_width=9\n",
        "blur_value=7\n",
        "totalColors = 6\n",
        "\n",
        "edgeImg = edge_detection(img,line_width,blur_value)\n",
        "img = color_quantisation(img,totalColors)\n"
      ],
      "metadata": {
        "id": "Gz3e5j2UkQAl"
      },
      "execution_count": null,
      "outputs": []
    },
    {
      "cell_type": "code",
      "source": [
        "blurred_img = cv2.bilateralFilter(img, d=7,sigmaColor = 0,sigmaSpace = 700)\n",
        "cartoon = cv2.bitwise_and(blurred_img,blurred_img, mask = edgeImg)\n",
        "cv2.imwrite('cartoon.jpeg',cartoon)"
      ],
      "metadata": {
        "colab": {
          "base_uri": "https://localhost:8080/"
        },
        "id": "xUFzWpMfj9c-",
        "outputId": "fc9e6465-86f5-4a93-aeeb-e349e202feee"
      },
      "execution_count": null,
      "outputs": [
        {
          "output_type": "execute_result",
          "data": {
            "text/plain": [
              "True"
            ]
          },
          "metadata": {},
          "execution_count": 6
        }
      ]
    },
    {
      "cell_type": "code",
      "source": [],
      "metadata": {
        "id": "bEFw12qlkAUz"
      },
      "execution_count": null,
      "outputs": []
    }
  ]
}